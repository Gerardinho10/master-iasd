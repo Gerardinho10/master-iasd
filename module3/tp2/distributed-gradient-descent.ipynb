{
 "cells": [
  {
   "cell_type": "markdown",
   "metadata": {},
   "source": [
    "# Distributed gradient descent\n",
    "\n",
    "In this exercise, we will build from scratch a logistic regression model and train it with distributed gradient descent.\n",
    "\n",
    "As for the other exercise with start with a few imports (fewer than before since we won't use MLlib) and create a local spark application."
   ]
  },
  {
   "cell_type": "code",
   "execution_count": null,
   "metadata": {},
   "outputs": [],
   "source": [
    "from pyspark.sql import SparkSession\n",
    "from pyspark.sql import types as st\n",
    "from pyspark.sql import functions as sf\n",
    "from pyspark.sql import Row, DataFrame\n",
    "from pyspark import RDD\n",
    "from pyspark import StorageLevel"
   ]
  },
  {
   "cell_type": "code",
   "execution_count": null,
   "metadata": {},
   "outputs": [],
   "source": [
    "%matplotlib inline"
   ]
  },
  {
   "cell_type": "code",
   "execution_count": null,
   "metadata": {},
   "outputs": [],
   "source": [
    "import numpy as np\n",
    "import math\n",
    "import matplotlib.pyplot as plot\n",
    "from typing import Tuple, Dict"
   ]
  },
  {
   "cell_type": "code",
   "execution_count": null,
   "metadata": {},
   "outputs": [],
   "source": [
    "ss = SparkSession \\\n",
    "    .builder \\\n",
    "    .appName(\"criteo-lr\") \\\n",
    "    .master(\"local[4]\") \\\n",
    "    .config(\"spark.submit.deployMode\", \"client\") \\\n",
    "    .config(\"spark.driver.memory\", \"4g\") \\\n",
    "    .config(\"spark.ui.port\", \"0\") \\\n",
    "    .getOrCreate()\n",
    "ss"
   ]
  },
  {
   "cell_type": "markdown",
   "metadata": {},
   "source": [
    "## Q0: Load the data as a Spark DataFrame\n",
    "\n",
    "This is exactly the same as Q1 for the other exercise.  \n",
    "\n",
    "We will asumme in the rest of the code that your dataframe is called df, that categorical_features is the list of the categorical feature column names and that the label column is called 'label'."
   ]
  },
  {
   "cell_type": "markdown",
   "metadata": {},
   "source": [
    "## Convert the input to a vector using one hot encoding\n",
    "\n",
    "Unlike the previous exercise, we will use one hot encoding to transform the raw features to our input vector. We will restrict ourselves to a subset of the categorical features, the ones with a small number of distinct modalities. Using one hot encoding on this subset of features will give us a vector of dimension ~100. This will allow us to work with dense vectors. For feature hashing to work well, we have to use a much larger dimension (look at the 2^16 in the previous exercise) where sparse vectors are required."
   ]
  },
  {
   "cell_type": "markdown",
   "metadata": {},
   "source": [
    "### Selecting a subset of features based on the number of modalities"
   ]
  },
  {
   "cell_type": "code",
   "execution_count": null,
   "metadata": {},
   "outputs": [],
   "source": [
    "num_modalities = {} \n",
    "for cat_feat in categorical_features:\n",
    "    num_modalities[cat_feat] = df \\\n",
    "        .filter(sf.col(cat_feat).isNotNull()) \\\n",
    "        .select(cat_feat) \\\n",
    "        .distinct() \\\n",
    "        .count()\n",
    "num_modalities"
   ]
  },
  {
   "cell_type": "markdown",
   "metadata": {},
   "source": [
    "We will use all categorical features with less than 50 distinct modalities."
   ]
  },
  {
   "cell_type": "code",
   "execution_count": null,
   "metadata": {},
   "outputs": [],
   "source": [
    "low_card_cat_feat = [cat_feat for cat_feat, num_modalities in num_modalities.items() if num_modalities < 50]\n",
    "low_card_cat_feat"
   ]
  },
  {
   "cell_type": "markdown",
   "metadata": {},
   "source": [
    "### Building dict for one hot encoding\n",
    "\n",
    "For one hot encoding, you need a dictionary mapping for each feature and each modality the index in the vector.  \n",
    "First let's collect the list of modalities for each feature."
   ]
  },
  {
   "cell_type": "code",
   "execution_count": null,
   "metadata": {},
   "outputs": [],
   "source": [
    "modalities = {}\n",
    "for cat_feat in low_card_cat_feat:\n",
    "    rows = df\\\n",
    "        .filter(sf.col(cat_feat).isNotNull())\\\n",
    "        .select(cat_feat)\\\n",
    "        .distinct()\\\n",
    "        .collect()\n",
    "    modalities[cat_feat] = [row[cat_feat] for row in rows]\n",
    "    # Previous line is to unpack the data from List[Row[str]] to a List[str]"
   ]
  },
  {
   "cell_type": "markdown",
   "metadata": {},
   "source": [
    "Then let's build the dictionary.  \n",
    "We put in the dictionary all modalities collected in the previous step plus for account for the possibility of each feature being absent. Giving an index to the modality 'absent' for a feature will allow our model to give a weight to such an event and may increase model quality."
   ]
  },
  {
   "cell_type": "code",
   "execution_count": null,
   "metadata": {},
   "outputs": [],
   "source": [
    "one_hot_encoder = {cat_feat:{} for cat_feat in low_card_cat_feat}\n",
    "index = 0\n",
    "for cat_feat in low_card_cat_feat:\n",
    "    for value in modalities[cat_feat]:\n",
    "        one_hot_encoder[cat_feat][value] = index\n",
    "        index += 1\n",
    "    one_hot_encoder[cat_feat][None] = index\n",
    "    index += 1"
   ]
  },
  {
   "cell_type": "markdown",
   "metadata": {},
   "source": [
    "### Converting our input to a vector\n",
    "\n",
    "We simply apply the previously generated dictionary and put a 1 in the vector at the index of each (feature,modality).  \n",
    "The dimension of our vector will be the total number of distinct modalities + 1. We use one more dimension to compute the weight of the intercept. It will ease the code below to consider the intercept simply as a feature that all examples have."
   ]
  },
  {
   "cell_type": "code",
   "execution_count": null,
   "metadata": {},
   "outputs": [],
   "source": [
    "dimension = 1 + np.sum([len(one_hot_encoder[feature]) for feature in one_hot_encoder.keys()])\n",
    "dimension"
   ]
  },
  {
   "cell_type": "code",
   "execution_count": null,
   "metadata": {},
   "outputs": [],
   "source": [
    "def row_to_vector(\n",
    "    row: Row, dimension: int, encoder: Dict[str, Dict[str, int]]\n",
    ") -> np.ndarray:\n",
    "    x = np.zeros(dimension)\n",
    "    x[-1] = 1 # for intercept\n",
    "    for feat in encoder.keys():\n",
    "        value = row[feat]\n",
    "        index = encoder[feat].get(value, None)\n",
    "        # index == None mean this modality was not in our dictionary \n",
    "        # which is possible if we encouter a new modality in the test set\n",
    "        # that was not present in the training set used to build the dictionnary\n",
    "        # we don't have space for such features in our vector\n",
    "        if index != None:\n",
    "            x[index] = 1\n",
    "    return x"
   ]
  },
  {
   "cell_type": "markdown",
   "metadata": {},
   "source": [
    "## Q1: Convert the dataframe to an RDD[vector, label]\n",
    "\n",
    "Using the function row_to_vector, convert the dataframe to an RDD where each element of the RDD is the pair (vector, label).  \n",
    "Print the first few elements of this RDD."
   ]
  },
  {
   "cell_type": "markdown",
   "metadata": {},
   "source": [
    "## Computing the prediction and the loss\n",
    "\n",
    "The prediction of the logistic regression model is defined as the dot product between the feature vector and the model weights followed by the sigmoid."
   ]
  },
  {
   "cell_type": "code",
   "execution_count": null,
   "metadata": {},
   "outputs": [],
   "source": [
    "def sigmoid(x: float) -> float:\n",
    "    return 1 / (1 + math.exp(-x))"
   ]
  },
  {
   "cell_type": "code",
   "execution_count": null,
   "metadata": {},
   "outputs": [],
   "source": [
    "X = np.arange(-10, 10, 0.01)"
   ]
  },
  {
   "cell_type": "code",
   "execution_count": null,
   "metadata": {},
   "outputs": [],
   "source": [
    "plot.plot(X, [sigmoid(x) for x in X])"
   ]
  },
  {
   "cell_type": "code",
   "execution_count": null,
   "metadata": {},
   "outputs": [],
   "source": [
    "def point_predict(x: np.ndarray, model: np.ndarray) -> float:\n",
    "    return sigmoid(np.dot(x, model))"
   ]
  },
  {
   "cell_type": "markdown",
   "metadata": {},
   "source": [
    "The logistic loss"
   ]
  },
  {
   "cell_type": "code",
   "execution_count": null,
   "metadata": {},
   "outputs": [],
   "source": [
    "def point_loss(prediction: float, y: int) -> float:\n",
    "    return - y * math.log(prediction) - (1-y) * math.log(1-prediction)"
   ]
  },
  {
   "cell_type": "markdown",
   "metadata": {},
   "source": [
    "The closest the prediction is to the label, the lower the loss."
   ]
  },
  {
   "cell_type": "code",
   "execution_count": null,
   "metadata": {},
   "outputs": [],
   "source": [
    "for pred, label in [(0.9, 1), (0.1, 0), (0.1, 1), (0.9, 0)]:\n",
    "    print(f'For a prediction of {pred} of positive, when the label is {\"positive\" if label ==1 else \"negative\"} the loss is {point_loss(pred, label)}')"
   ]
  },
  {
   "cell_type": "markdown",
   "metadata": {},
   "source": [
    "## Q2: Compute the loss\n",
    "\n",
    "Given an RDD of pair (vector,label), a model and the number of training examples, compute the average loss for this model on this RDD."
   ]
  },
  {
   "cell_type": "markdown",
   "metadata": {},
   "source": [
    "## Q3: Compute the gradient of the loss\n",
    "\n",
    "Here is the function to compute the gradient on one example"
   ]
  },
  {
   "cell_type": "code",
   "execution_count": null,
   "metadata": {},
   "outputs": [],
   "source": [
    "def point_gradient(x: np.ndarray, y: int, model: np.ndarray) -> float:\n",
    "    p = sigmoid(np.dot(x, model))\n",
    "    return (p - y) *  x"
   ]
  },
  {
   "cell_type": "markdown",
   "metadata": {},
   "source": [
    "Given an RDD of pair (vector, label), a model and the number of training example, use this function to compute the gradient of the loss."
   ]
  },
  {
   "cell_type": "markdown",
   "metadata": {},
   "source": [
    "## Q4: Smart initialization\n",
    "\n",
    "Initialize your model to zero except for the intercept which should be initialized with the logit of the average probability of the positive label. The logit is the inverse of the sigmoid and is given below.  \n",
    "Compare the loss of this smart model to the model which is always zero.  \n",
    "What is the prediction using this smart model?"
   ]
  },
  {
   "cell_type": "code",
   "execution_count": null,
   "metadata": {},
   "outputs": [],
   "source": [
    "def logit(x: float) -> float:\n",
    "    return math.log( x / (1-x) )"
   ]
  },
  {
   "cell_type": "code",
   "execution_count": null,
   "metadata": {},
   "outputs": [],
   "source": [
    "np.sum(np.abs([x - logit(sigmoid(x)) for x in X]))"
   ]
  },
  {
   "cell_type": "markdown",
   "metadata": {},
   "source": [
    "## Q5: Distributed Gradient Descent\n",
    "\n",
    "Write a train function taking as input the training dataframe, the dictionary for the encoder, a maximum number of iterations and a learning rate and that outputs a model. Print the initial and the final loss and the loss at every step to make sure it decreases."
   ]
  },
  {
   "cell_type": "markdown",
   "metadata": {},
   "source": [
    "## Q6: Weight analysis\n",
    "\n",
    "Print the intercept and compare it to the average probability of positive.  \n",
    "Print the weight associated to every feature and modality."
   ]
  },
  {
   "cell_type": "markdown",
   "metadata": {},
   "source": [
    "## [OPT] Q7: Sparse vectors and feature hashing\n",
    "\n",
    "Replace the one hot encoding scheme by feature hashing and use all categorical features.  \n",
    "Replace all usage of dense vectors by sparse vectors.  \n",
    "Compare the performance of your model to Spark MLlib model. "
   ]
  },
  {
   "cell_type": "code",
   "execution_count": null,
   "metadata": {},
   "outputs": [],
   "source": [
    "ss.stop()"
   ]
  }
 ],
 "metadata": {
  "kernelspec": {
   "display_name": "Python 3",
   "language": "python",
   "name": "python3"
  },
  "language_info": {
   "codemirror_mode": {
    "name": "ipython",
    "version": 3
   },
   "file_extension": ".py",
   "mimetype": "text/x-python",
   "name": "python",
   "nbconvert_exporter": "python",
   "pygments_lexer": "ipython3",
   "version": "3.6.8"
  }
 },
 "nbformat": 4,
 "nbformat_minor": 2
}
