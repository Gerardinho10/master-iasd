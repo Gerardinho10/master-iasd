{
 "cells": [
  {
   "cell_type": "markdown",
   "metadata": {},
   "source": [
    "# Logistic regression on Criteo dataset with Spark MLlib"
   ]
  },
  {
   "cell_type": "code",
   "execution_count": 1,
   "metadata": {},
   "outputs": [],
   "source": [
    "from pyspark.sql import SparkSession\n",
    "from pyspark.sql import types as st\n",
    "from pyspark.sql import functions as sf\n",
    "from pyspark.ml.feature import FeatureHasher\n",
    "from pyspark.ml.pipeline import Pipeline\n",
    "from pyspark.ml.classification import LogisticRegression\n",
    "from pyspark.ml.evaluation import BinaryClassificationEvaluator\n",
    "from pyspark import StorageLevel"
   ]
  },
  {
   "cell_type": "code",
   "execution_count": 2,
   "metadata": {},
   "outputs": [],
   "source": [
    "%matplotlib inline"
   ]
  },
  {
   "cell_type": "code",
   "execution_count": 3,
   "metadata": {},
   "outputs": [],
   "source": [
    "from scipy.special import expit\n",
    "import matplotlib.pyplot as plot"
   ]
  },
  {
   "cell_type": "code",
   "execution_count": 4,
   "metadata": {},
   "outputs": [
    {
     "data": {
      "text/html": [
       "\n",
       "            <div>\n",
       "                <p><b>SparkSession - in-memory</b></p>\n",
       "                \n",
       "        <div>\n",
       "            <p><b>SparkContext</b></p>\n",
       "\n",
       "            <p><a href=\"http://jobs-user01.pa4.hpc.criteo.prod:35705\">Spark UI</a></p>\n",
       "\n",
       "            <dl>\n",
       "              <dt>Version</dt>\n",
       "                <dd><code>v2.4.3-criteo-1570526349</code></dd>\n",
       "              <dt>Master</dt>\n",
       "                <dd><code>local[4]</code></dd>\n",
       "              <dt>AppName</dt>\n",
       "                <dd><code>criteo-lr</code></dd>\n",
       "            </dl>\n",
       "        </div>\n",
       "        \n",
       "            </div>\n",
       "        "
      ],
      "text/plain": [
       "<pyspark.sql.session.SparkSession at 0x7f03f6638cf8>"
      ]
     },
     "execution_count": 4,
     "metadata": {},
     "output_type": "execute_result"
    }
   ],
   "source": [
    "ss = SparkSession \\\n",
    "    .builder \\\n",
    "    .appName(\"criteo-lr\") \\\n",
    "    .master(\"local[4]\") \\\n",
    "    .config(\"spark.submit.deployMode\", \"client\") \\\n",
    "    .config(\"spark.driver.memory\", \"4g\") \\\n",
    "    .config(\"spark.ui.port\", \"0\") \\\n",
    "    .getOrCreate()\n",
    "ss"
   ]
  },
  {
   "cell_type": "markdown",
   "metadata": {},
   "source": [
    "## Load dataset"
   ]
  },
  {
   "cell_type": "code",
   "execution_count": 6,
   "metadata": {},
   "outputs": [],
   "source": [
    "integer_features = [f\"int_feat_{i}\" for i in range(1, 14)]\n",
    "categorical_features = [f\"cat_feat_{i}\" for i in range(1, 27)]\n",
    "\n",
    "fields = []\n",
    "\n",
    "fields.append(\n",
    "    st.StructField(\"label\", st.IntegerType(), nullable=False)\n",
    ")\n",
    "\n",
    "for int_feat in integer_features:\n",
    "    fields.append(st.StructField(int_feat, st.IntegerType(), nullable=True))\n",
    "    \n",
    "for cat_feat in categorical_features:\n",
    "    fields.append(st.StructField(cat_feat, st.StringType(), nullable=True))\n",
    "\n",
    "schema = st.StructType(fields)"
   ]
  },
  {
   "cell_type": "code",
   "execution_count": 7,
   "metadata": {},
   "outputs": [],
   "source": [
    "full_df = ss.read.csv(\n",
    "    path=\"file:///home/m.tchiboukdjian/master-iasd/large-scale-ml/train.txt\",\n",
    "    sep=\"\\t\",\n",
    "    header=None,\n",
    "    schema=schema\n",
    ")"
   ]
  },
  {
   "cell_type": "code",
   "execution_count": 8,
   "metadata": {},
   "outputs": [],
   "source": [
    "# don't run this cell to use the full dataset\n",
    "full_df = full_df.sample(0.1).persist(StorageLevel.DISK_ONLY)"
   ]
  },
  {
   "cell_type": "code",
   "execution_count": 9,
   "metadata": {},
   "outputs": [
    {
     "data": {
      "text/html": [
       "<div>\n",
       "<style scoped>\n",
       "    .dataframe tbody tr th:only-of-type {\n",
       "        vertical-align: middle;\n",
       "    }\n",
       "\n",
       "    .dataframe tbody tr th {\n",
       "        vertical-align: top;\n",
       "    }\n",
       "\n",
       "    .dataframe thead th {\n",
       "        text-align: right;\n",
       "    }\n",
       "</style>\n",
       "<table border=\"1\" class=\"dataframe\">\n",
       "  <thead>\n",
       "    <tr style=\"text-align: right;\">\n",
       "      <th></th>\n",
       "      <th>num_examples</th>\n",
       "      <th>num_positives</th>\n",
       "      <th>num_negatives</th>\n",
       "      <th>avg_label</th>\n",
       "    </tr>\n",
       "  </thead>\n",
       "  <tbody>\n",
       "    <tr>\n",
       "      <th>0</th>\n",
       "      <td>4584122</td>\n",
       "      <td>1174584</td>\n",
       "      <td>3409538</td>\n",
       "      <td>0.256229</td>\n",
       "    </tr>\n",
       "  </tbody>\n",
       "</table>\n",
       "</div>"
      ],
      "text/plain": [
       "   num_examples  num_positives  num_negatives  avg_label\n",
       "0       4584122        1174584        3409538   0.256229"
      ]
     },
     "execution_count": 9,
     "metadata": {},
     "output_type": "execute_result"
    }
   ],
   "source": [
    "full_df.agg(\n",
    "    sf.count('*').alias('num_examples'),\n",
    "    sf.sum('label').alias('num_positives'),\n",
    "    sf.sum(sf.expr('label == 0').cast('int')).alias('num_negatives'),\n",
    "    sf.mean('label').alias('avg_label')\n",
    ").toPandas()"
   ]
  },
  {
   "cell_type": "code",
   "execution_count": 10,
   "metadata": {},
   "outputs": [],
   "source": [
    "train_df, test_df = full_df.randomSplit([0.8, 0.2])"
   ]
  },
  {
   "cell_type": "markdown",
   "metadata": {},
   "source": [
    "## Feature Hashing"
   ]
  },
  {
   "cell_type": "code",
   "execution_count": 11,
   "metadata": {},
   "outputs": [],
   "source": [
    "hasher = FeatureHasher()\\\n",
    "    .setInputCols(categorical_features)\\\n",
    "    .setCategoricalCols(categorical_features)\\\n",
    "    .setNumFeatures(2 ** 16)\\\n",
    "    .setOutputCol(\"features\")"
   ]
  },
  {
   "cell_type": "code",
   "execution_count": 12,
   "metadata": {},
   "outputs": [],
   "source": [
    "hashed_df = hasher.transform(train_df)"
   ]
  },
  {
   "cell_type": "code",
   "execution_count": 14,
   "metadata": {},
   "outputs": [
    {
     "name": "stdout",
     "output_type": "stream",
     "text": [
      "+------------------------------------------------------------------------------------------------------------------------------------------------------------------------------------------------------------------------------------------------------------------------------+\n",
      "|features                                                                                                                                                                                                                                                                      |\n",
      "+------------------------------------------------------------------------------------------------------------------------------------------------------------------------------------------------------------------------------------------------------------------------------+\n",
      "|(65536,[1273,9877,15085,21563,22469,26699,27442,27890,35986,39921,41642,45348,46564,46835,51690,53310,53441,55318,56600,58699,59537,64150],[1.0,1.0,1.0,1.0,1.0,1.0,1.0,1.0,1.0,1.0,1.0,1.0,1.0,1.0,1.0,1.0,1.0,1.0,1.0,1.0,1.0,1.0])                                         |\n",
      "|(65536,[2328,3664,7468,9770,14646,17364,18323,20376,21008,22338,27958,28314,36754,38950,39598,41057,42048,53310,55820,64031,64839],[1.0,1.0,1.0,1.0,1.0,1.0,1.0,1.0,1.0,1.0,1.0,1.0,1.0,1.0,1.0,1.0,1.0,1.0,1.0,1.0,1.0])                                                     |\n",
      "|(65536,[12908,17251,19660,21757,22581,27890,30276,33950,35467,36754,37779,38703,43683,44707,44755,45348,49224,49704,49781,51752,52558,57522,58699,59537,60070],[1.0,1.0,1.0,1.0,1.0,1.0,1.0,1.0,1.0,1.0,1.0,1.0,1.0,1.0,1.0,1.0,1.0,1.0,1.0,1.0,1.0,1.0,1.0,1.0,1.0])         |\n",
      "|(65536,[5114,18465,18466,18699,19600,21757,22581,25065,27442,27958,29091,29948,32557,34130,36083,36180,38654,44665,44707,45348,49781,53385,56620,57201,57522,58699],[1.0,1.0,1.0,1.0,1.0,1.0,1.0,1.0,1.0,1.0,1.0,1.0,1.0,1.0,1.0,1.0,1.0,1.0,1.0,1.0,1.0,1.0,1.0,1.0,1.0,1.0])|\n",
      "+------------------------------------------------------------------------------------------------------------------------------------------------------------------------------------------------------------------------------------------------------------------------------+\n",
      "only showing top 4 rows\n",
      "\n"
     ]
    }
   ],
   "source": [
    "hashed_df.select('features').show(4, False)"
   ]
  },
  {
   "cell_type": "markdown",
   "metadata": {},
   "source": [
    "## Logistic Regression"
   ]
  },
  {
   "cell_type": "code",
   "execution_count": 15,
   "metadata": {},
   "outputs": [],
   "source": [
    "lr = LogisticRegression(\n",
    "    featuresCol=\"features\",\n",
    "    labelCol=\"label\",\n",
    "    maxIter=100,\n",
    "    regParam=10.0,\n",
    "    tol=1e-06\n",
    ")"
   ]
  },
  {
   "cell_type": "code",
   "execution_count": 16,
   "metadata": {},
   "outputs": [],
   "source": [
    "lr_model = lr.fit(hashed_df)"
   ]
  },
  {
   "cell_type": "code",
   "execution_count": 17,
   "metadata": {},
   "outputs": [
    {
     "data": {
      "text/plain": [
       "(-1.076280920415807, 0.25421046292195104)"
      ]
     },
     "execution_count": 17,
     "metadata": {},
     "output_type": "execute_result"
    }
   ],
   "source": [
    "lr_model.intercept, expit(lr_model.intercept)"
   ]
  },
  {
   "cell_type": "code",
   "execution_count": 18,
   "metadata": {},
   "outputs": [
    {
     "data": {
      "text/plain": [
       "65536"
      ]
     },
     "execution_count": 18,
     "metadata": {},
     "output_type": "execute_result"
    }
   ],
   "source": [
    "len(lr_model.coefficients)"
   ]
  },
  {
   "cell_type": "code",
   "execution_count": 21,
   "metadata": {},
   "outputs": [
    {
     "data": {
      "text/plain": [
       "(array([1.800e+01, 7.400e+01, 1.620e+02, 3.590e+02, 6.370e+02, 1.109e+03,\n",
       "        1.805e+03, 2.831e+03, 3.800e+03, 5.109e+03, 6.378e+03, 7.092e+03,\n",
       "        7.193e+03, 6.486e+03, 5.664e+03, 4.538e+03, 3.464e+03, 2.573e+03,\n",
       "        1.813e+03, 1.120e+03, 8.330e+02, 7.060e+02, 4.360e+02, 3.440e+02,\n",
       "        2.320e+02, 1.790e+02, 1.410e+02, 8.600e+01, 6.500e+01, 5.800e+01,\n",
       "        5.100e+01, 4.600e+01, 3.300e+01, 2.800e+01, 1.600e+01, 1.600e+01,\n",
       "        1.100e+01, 9.000e+00, 6.000e+00, 2.000e+00, 2.000e+00, 1.000e+00,\n",
       "        1.000e+00, 2.000e+00, 0.000e+00, 1.000e+00, 1.000e+00, 3.000e+00,\n",
       "        1.000e+00, 0.000e+00, 1.000e+00]),\n",
       " array([-0.02037121, -0.01875693, -0.01714264, -0.01552836, -0.01391407,\n",
       "        -0.01229979, -0.0106855 , -0.00907122, -0.00745693, -0.00584265,\n",
       "        -0.00422837, -0.00261408, -0.0009998 ,  0.00061449,  0.00222877,\n",
       "         0.00384306,  0.00545734,  0.00707163,  0.00868591,  0.01030019,\n",
       "         0.01191448,  0.01352876,  0.01514305,  0.01675733,  0.01837162,\n",
       "         0.0199859 ,  0.02160019,  0.02321447,  0.02482876,  0.02644304,\n",
       "         0.02805732,  0.02967161,  0.03128589,  0.03290018,  0.03451446,\n",
       "         0.03612875,  0.03774303,  0.03935732,  0.0409716 ,  0.04258588,\n",
       "         0.04420017,  0.04581445,  0.04742874,  0.04904302,  0.05065731,\n",
       "         0.05227159,  0.05388588,  0.05550016,  0.05711445,  0.05872873,\n",
       "         0.06034301,  0.0619573 ]),\n",
       " <a list of 51 Patch objects>)"
      ]
     },
     "execution_count": 21,
     "metadata": {},
     "output_type": "execute_result"
    },
    {
     "data": {
      "image/png": "[encoded data removed]",
      "text/plain": [
       "<Figure size 432x288 with 1 Axes>"
      ]
     },
     "metadata": {
      "needs_background": "light"
     },
     "output_type": "display_data"
    }
   ],
   "source": [
    "plot.hist(lr_model.coefficients, bins=51)"
   ]
  },
  {
   "cell_type": "markdown",
   "metadata": {},
   "source": [
    "## Pipeline"
   ]
  },
  {
   "cell_type": "code",
   "execution_count": 22,
   "metadata": {},
   "outputs": [],
   "source": [
    "pipeline = Pipeline(stages=[hasher, lr])"
   ]
  },
  {
   "cell_type": "code",
   "execution_count": 23,
   "metadata": {},
   "outputs": [],
   "source": [
    "lr_model_with_hasher = pipeline.fit(train_df)"
   ]
  },
  {
   "cell_type": "code",
   "execution_count": 24,
   "metadata": {},
   "outputs": [
    {
     "data": {
      "text/plain": [
       "[FeatureHasher_9f27ea385ae6,\n",
       " LogisticRegressionModel: uid = LogisticRegression_c240199fcbea, numClasses = 2, numFeatures = 65536]"
      ]
     },
     "execution_count": 24,
     "metadata": {},
     "output_type": "execute_result"
    }
   ],
   "source": [
    "lr_model_with_hasher.stages"
   ]
  },
  {
   "cell_type": "markdown",
   "metadata": {},
   "source": [
    "## Evaluation"
   ]
  },
  {
   "cell_type": "code",
   "execution_count": 25,
   "metadata": {},
   "outputs": [],
   "source": [
    "test_df_with_pred = lr_model_with_hasher.transform(test_df)"
   ]
  },
  {
   "cell_type": "code",
   "execution_count": 27,
   "metadata": {},
   "outputs": [
    {
     "name": "stdout",
     "output_type": "stream",
     "text": [
      "+----------------------------------------+\n",
      "|probability                             |\n",
      "+----------------------------------------+\n",
      "|[0.7229415716995374,0.2770584283004625] |\n",
      "|[0.7598638962240658,0.24013610377593414]|\n",
      "|[0.7605365373894056,0.2394634626105944] |\n",
      "|[0.745089578062862,0.2549104219371379]  |\n",
      "|[0.7555870601702451,0.2444129398297549] |\n",
      "|[0.7548281171764062,0.24517188282359378]|\n",
      "|[0.7558073396092361,0.24419266039076387]|\n",
      "|[0.7562528901527084,0.24374710984729162]|\n",
      "|[0.770773750924506,0.22922624907549397] |\n",
      "|[0.7574871121658973,0.24251288783410277]|\n",
      "+----------------------------------------+\n",
      "only showing top 10 rows\n",
      "\n"
     ]
    }
   ],
   "source": [
    "test_df_with_pred.select('probability').show(10, False)"
   ]
  },
  {
   "cell_type": "code",
   "execution_count": 28,
   "metadata": {},
   "outputs": [],
   "source": [
    "evaluator = BinaryClassificationEvaluator(\n",
    "    rawPredictionCol=\"rawPrediction\",\n",
    "    labelCol=\"label\",\n",
    "    metricName=\"areaUnderROC\"\n",
    ")"
   ]
  },
  {
   "cell_type": "code",
   "execution_count": 29,
   "metadata": {},
   "outputs": [
    {
     "data": {
      "text/plain": [
       "0.7184818311995048"
      ]
     },
     "execution_count": 29,
     "metadata": {},
     "output_type": "execute_result"
    }
   ],
   "source": [
    "evaluator.evaluate(test_df_with_pred)"
   ]
  },
  {
   "cell_type": "markdown",
   "metadata": {},
   "source": [
    "## Optional: Add integer features"
   ]
  },
  {
   "cell_type": "code",
   "execution_count": 30,
   "metadata": {},
   "outputs": [],
   "source": [
    "ss.stop()"
   ]
  }
 ],
 "metadata": {
  "kernelspec": {
   "display_name": "Python 3",
   "language": "python",
   "name": "python3"
  },
  "language_info": {
   "codemirror_mode": {
    "name": "ipython",
    "version": 3
   },
   "file_extension": ".py",
   "mimetype": "text/x-python",
   "name": "python",
   "nbconvert_exporter": "python",
   "pygments_lexer": "ipython3",
   "version": "3.6.8"
  }
 },
 "nbformat": 4,
 "nbformat_minor": 2
}
