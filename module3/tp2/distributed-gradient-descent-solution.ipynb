{
 "cells": [
  {
   "cell_type": "markdown",
   "metadata": {},
   "source": [
    "# Logistic regression on Criteo dataset without Spark MLlib"
   ]
  },
  {
   "cell_type": "code",
   "execution_count": 1,
   "metadata": {},
   "outputs": [],
   "source": [
    "from pyspark.sql import SparkSession\n",
    "from pyspark.sql import types as st\n",
    "from pyspark.sql import functions as sf\n",
    "from pyspark.sql import Row, DataFrame\n",
    "from pyspark import RDD\n",
    "from pyspark import StorageLevel"
   ]
  },
  {
   "cell_type": "code",
   "execution_count": 2,
   "metadata": {},
   "outputs": [],
   "source": [
    "%matplotlib inline"
   ]
  },
  {
   "cell_type": "code",
   "execution_count": 3,
   "metadata": {},
   "outputs": [],
   "source": [
    "import numpy as np\n",
    "import math\n",
    "import matplotlib.pyplot as plot\n",
    "from typing import Tuple, Dict"
   ]
  },
  {
   "cell_type": "code",
   "execution_count": 4,
   "metadata": {},
   "outputs": [
    {
     "data": {
      "text/html": [
       "\n",
       "            <div>\n",
       "                <p><b>SparkSession - in-memory</b></p>\n",
       "                \n",
       "        <div>\n",
       "            <p><b>SparkContext</b></p>\n",
       "\n",
       "            <p><a href=\"http://jobs-user01.pa4.hpc.criteo.prod:43075\">Spark UI</a></p>\n",
       "\n",
       "            <dl>\n",
       "              <dt>Version</dt>\n",
       "                <dd><code>v2.4.3-criteo-1570526349</code></dd>\n",
       "              <dt>Master</dt>\n",
       "                <dd><code>local[4]</code></dd>\n",
       "              <dt>AppName</dt>\n",
       "                <dd><code>criteo-lr</code></dd>\n",
       "            </dl>\n",
       "        </div>\n",
       "        \n",
       "            </div>\n",
       "        "
      ],
      "text/plain": [
       "<pyspark.sql.session.SparkSession at 0x7f7ebfc19438>"
      ]
     },
     "execution_count": 4,
     "metadata": {},
     "output_type": "execute_result"
    }
   ],
   "source": [
    "ss = SparkSession \\\n",
    "    .builder \\\n",
    "    .appName(\"criteo-lr\") \\\n",
    "    .master(\"local[4]\") \\\n",
    "    .config(\"spark.submit.deployMode\", \"client\") \\\n",
    "    .config(\"spark.driver.memory\", \"4g\") \\\n",
    "    .config(\"spark.ui.port\", \"0\") \\\n",
    "    .getOrCreate()\n",
    "ss"
   ]
  },
  {
   "cell_type": "markdown",
   "metadata": {},
   "source": [
    "## Load dataset"
   ]
  },
  {
   "cell_type": "code",
   "execution_count": 5,
   "metadata": {},
   "outputs": [],
   "source": [
    "integer_features = [f\"int_feat_{i}\" for i in range(1, 14)]\n",
    "categorical_features = [f\"cat_feat_{i}\" for i in range(1, 27)]\n",
    "\n",
    "fields = []\n",
    "\n",
    "fields.append(\n",
    "    st.StructField(\"label\", st.IntegerType(), nullable=False)\n",
    ")\n",
    "\n",
    "for int_feat in integer_features:\n",
    "    fields.append(st.StructField(int_feat, st.IntegerType(), nullable=True))\n",
    "    \n",
    "for cat_feat in categorical_features:\n",
    "    fields.append(st.StructField(cat_feat, st.StringType(), nullable=True))\n",
    "\n",
    "schema = st.StructType(fields)"
   ]
  },
  {
   "cell_type": "code",
   "execution_count": 6,
   "metadata": {},
   "outputs": [],
   "source": [
    "full_df = ss.read.csv(\n",
    "    path=\"file:///home/m.tchiboukdjian/master-iasd/large-scale-ml/train.txt\",\n",
    "    sep=\"\\t\",\n",
    "    header=None,\n",
    "    schema=schema\n",
    ")"
   ]
  },
  {
   "cell_type": "code",
   "execution_count": 7,
   "metadata": {},
   "outputs": [],
   "source": [
    "# don't run this cell to use the full dataset\n",
    "full_df = full_df.sample(0.1).persist(StorageLevel.DISK_ONLY)"
   ]
  },
  {
   "cell_type": "code",
   "execution_count": 8,
   "metadata": {},
   "outputs": [
    {
     "data": {
      "text/html": [
       "<div>\n",
       "<style scoped>\n",
       "    .dataframe tbody tr th:only-of-type {\n",
       "        vertical-align: middle;\n",
       "    }\n",
       "\n",
       "    .dataframe tbody tr th {\n",
       "        vertical-align: top;\n",
       "    }\n",
       "\n",
       "    .dataframe thead th {\n",
       "        text-align: right;\n",
       "    }\n",
       "</style>\n",
       "<table border=\"1\" class=\"dataframe\">\n",
       "  <thead>\n",
       "    <tr style=\"text-align: right;\">\n",
       "      <th></th>\n",
       "      <th>num_examples</th>\n",
       "      <th>num_positives</th>\n",
       "      <th>num_negatives</th>\n",
       "      <th>avg_label</th>\n",
       "    </tr>\n",
       "  </thead>\n",
       "  <tbody>\n",
       "    <tr>\n",
       "      <th>0</th>\n",
       "      <td>4587112</td>\n",
       "      <td>1175346</td>\n",
       "      <td>3411766</td>\n",
       "      <td>0.256228</td>\n",
       "    </tr>\n",
       "  </tbody>\n",
       "</table>\n",
       "</div>"
      ],
      "text/plain": [
       "   num_examples  num_positives  num_negatives  avg_label\n",
       "0       4587112        1175346        3411766   0.256228"
      ]
     },
     "execution_count": 8,
     "metadata": {},
     "output_type": "execute_result"
    }
   ],
   "source": [
    "full_df.agg(\n",
    "    sf.count('*').alias('num_examples'),\n",
    "    sf.sum('label').alias('num_positives'),\n",
    "    sf.sum(sf.expr('label == 0').cast('int')).alias('num_negatives'),\n",
    "    sf.mean('label').alias('avg_label')\n",
    ").toPandas()"
   ]
  },
  {
   "cell_type": "markdown",
   "metadata": {},
   "source": [
    "## Convert to vector with one hot encoding"
   ]
  },
  {
   "cell_type": "markdown",
   "metadata": {},
   "source": [
    "### Select subset of features based on number of modalities"
   ]
  },
  {
   "cell_type": "code",
   "execution_count": 9,
   "metadata": {},
   "outputs": [
    {
     "data": {
      "text/plain": [
       "{'cat_feat_1': 213,\n",
       " 'cat_feat_2': 484,\n",
       " 'cat_feat_3': 2552,\n",
       " 'cat_feat_4': 3535,\n",
       " 'cat_feat_5': 72,\n",
       " 'cat_feat_6': 10,\n",
       " 'cat_feat_7': 5264,\n",
       " 'cat_feat_8': 120,\n",
       " 'cat_feat_9': 3,\n",
       " 'cat_feat_10': 4431,\n",
       " 'cat_feat_11': 3103,\n",
       " 'cat_feat_12': 2626,\n",
       " 'cat_feat_13': 2551,\n",
       " 'cat_feat_14': 25,\n",
       " 'cat_feat_15': 2991,\n",
       " 'cat_feat_16': 2996,\n",
       " 'cat_feat_17': 10,\n",
       " 'cat_feat_18': 1673,\n",
       " 'cat_feat_19': 825,\n",
       " 'cat_feat_20': 3,\n",
       " 'cat_feat_21': 2717,\n",
       " 'cat_feat_22': 8,\n",
       " 'cat_feat_23': 14,\n",
       " 'cat_feat_24': 3069,\n",
       " 'cat_feat_25': 41,\n",
       " 'cat_feat_26': 2290}"
      ]
     },
     "execution_count": 9,
     "metadata": {},
     "output_type": "execute_result"
    }
   ],
   "source": [
    "threshold = 100\n",
    "num_modalities = {} \n",
    "for cat_feat in categorical_features:\n",
    "    num_modalities[cat_feat] = full_df \\\n",
    "        .filter(sf.col(cat_feat).isNotNull()) \\\n",
    "        .groupby(cat_feat) \\\n",
    "        .count() \\\n",
    "        .filter(sf.col('count') > sf.lit(threshold)) \\\n",
    "        .count()\n",
    "num_modalities"
   ]
  },
  {
   "cell_type": "code",
   "execution_count": 10,
   "metadata": {},
   "outputs": [
    {
     "data": {
      "text/plain": [
       "['cat_feat_6',\n",
       " 'cat_feat_9',\n",
       " 'cat_feat_14',\n",
       " 'cat_feat_17',\n",
       " 'cat_feat_20',\n",
       " 'cat_feat_22',\n",
       " 'cat_feat_23',\n",
       " 'cat_feat_25']"
      ]
     },
     "execution_count": 10,
     "metadata": {},
     "output_type": "execute_result"
    }
   ],
   "source": [
    "low_card_cat_feat = [cat_feat for cat_feat, num_modalities in num_modalities.items() if num_modalities < 50]\n",
    "low_card_cat_feat"
   ]
  },
  {
   "cell_type": "markdown",
   "metadata": {},
   "source": [
    "### Build map for one hot encoding"
   ]
  },
  {
   "cell_type": "code",
   "execution_count": 11,
   "metadata": {},
   "outputs": [],
   "source": [
    "modalities = {}\n",
    "for cat_feat in low_card_cat_feat:\n",
    "    rows = full_df\\\n",
    "        .filter(sf.col(cat_feat).isNotNull())\\\n",
    "        .groupby(cat_feat)\\\n",
    "        .count()\\\n",
    "        .filter(sf.col('count') > sf.lit(threshold))\\\n",
    "        .select(cat_feat)\\\n",
    "        .collect()\n",
    "    modalities[cat_feat] = [row[cat_feat] for row in rows]"
   ]
  },
  {
   "cell_type": "code",
   "execution_count": 12,
   "metadata": {},
   "outputs": [
    {
     "data": {
      "text/plain": [
       "123"
      ]
     },
     "execution_count": 12,
     "metadata": {},
     "output_type": "execute_result"
    }
   ],
   "source": [
    "one_hot_encoder = {cat_feat:{} for cat_feat in low_card_cat_feat}\n",
    "index = 0\n",
    "for cat_feat in low_card_cat_feat:\n",
    "    for value in modalities[cat_feat]:\n",
    "        one_hot_encoder[cat_feat][value] = index\n",
    "        index += 1\n",
    "    one_hot_encoder[cat_feat][None] = index\n",
    "    index += 1\n",
    "dimension = index + 1 # dimension is nb_of_modalities + 1 for the intercept\n",
    "dimension"
   ]
  },
  {
   "cell_type": "markdown",
   "metadata": {},
   "source": [
    "### Convert to vector"
   ]
  },
  {
   "cell_type": "code",
   "execution_count": 13,
   "metadata": {},
   "outputs": [],
   "source": [
    "def row_to_vector(\n",
    "    row: Row, dimension: int, encoder: Dict[str, Dict[str, int]]\n",
    ") -> Tuple[np.ndarray, int]:\n",
    "    x = np.zeros(dimension)\n",
    "    x[-1] = 1 # for intercept\n",
    "    y = row['label']\n",
    "    for feat in encoder.keys():\n",
    "        value = row[feat]\n",
    "        index = encoder[feat].get(value, None)\n",
    "        if index != None:\n",
    "            x[index] = 1\n",
    "    return x, y"
   ]
  },
  {
   "cell_type": "code",
   "execution_count": 14,
   "metadata": {},
   "outputs": [],
   "source": [
    "def convert_to_vectors(\n",
    "    df: DataFrame, dimension: int, encoder: Dict[str, Dict[str, int]]\n",
    ") -> RDD:\n",
    "    features = encoder.keys()\n",
    "    return df\\\n",
    "        .select('label', *features).rdd\\\n",
    "        .map(lambda row: row_to_vector(row, dimension, encoder))"
   ]
  },
  {
   "cell_type": "code",
   "execution_count": 15,
   "metadata": {},
   "outputs": [
    {
     "data": {
      "text/plain": [
       "(array([0., 0., 0., 0., 0., 0., 0., 1., 0., 0., 0., 1., 0., 0., 0., 0., 0.,\n",
       "        0., 0., 0., 0., 0., 0., 0., 1., 0., 0., 0., 0., 0., 0., 0., 0., 0.,\n",
       "        0., 0., 0., 0., 0., 0., 0., 0., 0., 0., 0., 0., 0., 1., 0., 0., 0.,\n",
       "        0., 0., 0., 0., 1., 0., 0., 0., 0., 0., 0., 0., 0., 1., 0., 0., 0.,\n",
       "        0., 0., 0., 0., 0., 0., 0., 1., 0., 0., 0., 0., 0., 0., 0., 0., 0.,\n",
       "        0., 0., 0., 0., 0., 0., 0., 0., 0., 0., 0., 0., 0., 0., 0., 0., 0.,\n",
       "        0., 0., 0., 0., 0., 0., 0., 0., 0., 0., 0., 0., 0., 0., 0., 0., 0.,\n",
       "        0., 0., 1., 1.]),\n",
       " 0)"
      ]
     },
     "execution_count": 15,
     "metadata": {},
     "output_type": "execute_result"
    }
   ],
   "source": [
    "convert_to_vectors(full_df, dimension, one_hot_encoder).first()"
   ]
  },
  {
   "cell_type": "markdown",
   "metadata": {},
   "source": [
    "## Compute loss"
   ]
  },
  {
   "cell_type": "code",
   "execution_count": 16,
   "metadata": {},
   "outputs": [],
   "source": [
    "def sigmoid(x: float) -> float:\n",
    "    return 1 / (1 + math.exp(-x))"
   ]
  },
  {
   "cell_type": "code",
   "execution_count": 17,
   "metadata": {},
   "outputs": [],
   "source": [
    "X = np.arange(-10, 10, 0.01)"
   ]
  },
  {
   "cell_type": "code",
   "execution_count": 18,
   "metadata": {},
   "outputs": [
    {
     "data": {
      "text/plain": [
       "[<matplotlib.lines.Line2D at 0x7f7f1a09e8d0>]"
      ]
     },
     "execution_count": 18,
     "metadata": {},
     "output_type": "execute_result"
    },
    {
     "data": {
      "image/png": "[encoded data removed]",
      "text/plain": [
       "<Figure size 432x288 with 1 Axes>"
      ]
     },
     "metadata": {
      "needs_background": "light"
     },
     "output_type": "display_data"
    }
   ],
   "source": [
    "plot.plot(X, [sigmoid(x) for x in X])"
   ]
  },
  {
   "cell_type": "code",
   "execution_count": 19,
   "metadata": {},
   "outputs": [],
   "source": [
    "def point_predict(x: np.ndarray, model: np.ndarray) -> float:\n",
    "    return sigmoid(np.dot(x, model))"
   ]
  },
  {
   "cell_type": "code",
   "execution_count": 20,
   "metadata": {},
   "outputs": [],
   "source": [
    "def point_loss(prediction: float, y: int) -> float:\n",
    "    return - y * math.log(prediction) - (1-y) * math.log(1-prediction)"
   ]
  },
  {
   "cell_type": "code",
   "execution_count": 21,
   "metadata": {},
   "outputs": [],
   "source": [
    "def compute_loss(vec_label_rdd: RDD, model: np.ndarray, num_examples: int) -> float:\n",
    "    sum_loss = vec_label_rdd\\\n",
    "        .map(lambda vec_lab: point_loss(point_predict(vec_lab[0], model), vec_lab[1]))\\\n",
    "        .reduce(lambda u, v: u+v)\n",
    "    return sum_loss / num_examples"
   ]
  },
  {
   "cell_type": "markdown",
   "metadata": {},
   "source": [
    "## Compute gradient of the loss"
   ]
  },
  {
   "cell_type": "code",
   "execution_count": 22,
   "metadata": {},
   "outputs": [],
   "source": [
    "def point_gradient(x: np.ndarray, y: int, model: np.ndarray) -> float:\n",
    "    p = sigmoid(np.dot(x, model))\n",
    "    return (p - y) *  x"
   ]
  },
  {
   "cell_type": "code",
   "execution_count": 23,
   "metadata": {},
   "outputs": [],
   "source": [
    "def compute_gradient(vec_label_rdd: RDD, model: np.ndarray, num_examples: int) -> np.ndarray:\n",
    "    sum_gradient = vec_label_rdd\\\n",
    "        .map(lambda vec_lab: point_gradient(vec_lab[0], vec_lab[1], model))\\\n",
    "        .reduce(lambda u, v: u+v)\n",
    "    return sum_gradient / num_examples"
   ]
  },
  {
   "cell_type": "markdown",
   "metadata": {},
   "source": [
    "## Check gradient with finite differences"
   ]
  },
  {
   "cell_type": "code",
   "execution_count": 24,
   "metadata": {},
   "outputs": [],
   "source": [
    "def point_gradient_fd(x, y, model, h=0.001):\n",
    "    dimension = len(x)\n",
    "    gradient = np.zeros(dimension)\n",
    "    for i in range(0, dimension):\n",
    "        delta = np.zeros(dimension)\n",
    "        delta[i] = h\n",
    "        \n",
    "        loss_up = point_loss(point_predict(x, model+delta), y)\n",
    "        loss_down = point_loss(point_predict(x, model-delta), y)\n",
    "        \n",
    "        gradient[i] = (loss_up - loss_down) / (2*h)\n",
    "    return gradient"
   ]
  },
  {
   "cell_type": "code",
   "execution_count": 25,
   "metadata": {},
   "outputs": [],
   "source": [
    "model = np.random.uniform(-1.0, 1.0, size=dimension)\n",
    "x = np.random.uniform(-1.0, 1.0, size=dimension)\n",
    "y = 0"
   ]
  },
  {
   "cell_type": "code",
   "execution_count": 26,
   "metadata": {},
   "outputs": [
    {
     "data": {
      "text/plain": [
       "6.859785633387024e-08"
      ]
     },
     "execution_count": 26,
     "metadata": {},
     "output_type": "execute_result"
    }
   ],
   "source": [
    "np.sum(np.abs(point_gradient_fd(x, y, model) - point_gradient(x, y, model)))"
   ]
  },
  {
   "cell_type": "markdown",
   "metadata": {},
   "source": [
    "## Distributed Gradient Descent"
   ]
  },
  {
   "cell_type": "code",
   "execution_count": 27,
   "metadata": {},
   "outputs": [],
   "source": [
    "def logit(x: float) -> float:\n",
    "    return math.log( x / (1-x) )"
   ]
  },
  {
   "cell_type": "code",
   "execution_count": 28,
   "metadata": {},
   "outputs": [
    {
     "data": {
      "text/plain": [
       "1.3486069205814746e-10"
      ]
     },
     "execution_count": 28,
     "metadata": {},
     "output_type": "execute_result"
    }
   ],
   "source": [
    "np.sum(np.abs([x - logit(sigmoid(x)) for x in X]))"
   ]
  },
  {
   "cell_type": "code",
   "execution_count": 29,
   "metadata": {},
   "outputs": [],
   "source": [
    "def smart_init(dimension: int, avg_label: float) -> np.ndarray:\n",
    "    init_model = np.zeros(dimension)\n",
    "    init_model[-1] = logit(avg_label)\n",
    "    return init_model"
   ]
  },
  {
   "cell_type": "code",
   "execution_count": 30,
   "metadata": {},
   "outputs": [],
   "source": [
    "def train(\n",
    "    training_set: DataFrame,\n",
    "    dimension: int,\n",
    "    encoder: Dict[str, Dict[str, int]],\n",
    "    nb_iter: int,\n",
    "    lr: float\n",
    ") -> Tuple[np.ndarray, float]:\n",
    "    num_examples, avg_label = training_set.agg(\n",
    "        sf.count('*').alias('num_examples'),\n",
    "        sf.mean('label').alias('avg_label')\n",
    "    ).collect()[0]\n",
    "    print(f'Num examples: {num_examples}, average label: {avg_label}')\n",
    "    model = smart_init(dimension, avg_label)\n",
    "    vector_label_rdd = convert_to_vectors(training_set, dimension, encoder).persist()\n",
    "    for it in range(0, nb_iter):\n",
    "        loss = compute_loss(vector_label_rdd, model, num_examples)\n",
    "        print(f'Loss at step {it}: {loss}')\n",
    "        gradient = compute_gradient(vector_label_rdd, model, num_examples)\n",
    "        model -= lr * gradient\n",
    "    final_loss = compute_loss(vector_label_rdd, model, num_examples)\n",
    "    print(f'Loss at step {nb_iter}: {final_loss}')\n",
    "    return model, final_loss"
   ]
  },
  {
   "cell_type": "code",
   "execution_count": 31,
   "metadata": {},
   "outputs": [
    {
     "name": "stdout",
     "output_type": "stream",
     "text": [
      "Num examples: 4587112, average label: 0.2562278836880373\n",
      "Loss at step 0: 0.5690743077878105\n",
      "Loss at step 1: 0.567098901261674\n",
      "Loss at step 2: 0.5653612477791176\n",
      "Loss at step 3: 0.5637904281964999\n",
      "Loss at step 4: 0.5623654748963451\n",
      "Loss at step 5: 0.5610700012847851\n",
      "Loss at step 6: 0.5598897119875923\n",
      "Loss at step 7: 0.558812041231945\n",
      "Loss at step 8: 0.5578259287808576\n",
      "Loss at step 9: 0.5569216301112553\n",
      "Loss at step 10: 0.5560905512971541\n"
     ]
    }
   ],
   "source": [
    "model, loss = train(full_df, dimension, one_hot_encoder, 10, 1)"
   ]
  },
  {
   "cell_type": "code",
   "execution_count": 32,
   "metadata": {},
   "outputs": [
    {
     "name": "stdout",
     "output_type": "stream",
     "text": [
      "intercept -> -1.099098773067705\n",
      "cat_feat_6=fbad5c96 -> -0.01736417639057321\n",
      "cat_feat_6=3bf701e7 -> 0.0028007628432673176\n",
      "cat_feat_6=c76aecf6 -> -2.812040656412048e-06\n",
      "cat_feat_6=c05778d5 -> -4.6543347297301904e-05\n",
      "cat_feat_6=f1f2de2d -> 2.3187664952036454e-05\n",
      "cat_feat_6=6f6d9be8 -> 0.020121650352710366\n",
      "cat_feat_6=13718bbd -> -0.01253037022999402\n",
      "cat_feat_6=fe6b92e5 -> 0.01170886627712748\n",
      "cat_feat_6=7e0ccccf -> -0.036299666123925704\n",
      "cat_feat_6=e3520422 -> -6.442243255570053e-05\n",
      "cat_feat_6=None -> -0.0017666690493169832\n",
      "cat_feat_9=a73ee510 -> 0.08003105070557046\n",
      "cat_feat_9=a18233ea -> -0.0002292024376455462\n",
      "cat_feat_9=7cc72ec2 -> -0.11323314786915856\n",
      "cat_feat_9=None -> 0.0\n",
      "cat_feat_14=f862f261 -> -0.015292712310671183\n",
      "cat_feat_14=243a4e68 -> -0.00013268581466148737\n",
      "cat_feat_14=d2dfe871 -> 0.003961487519168026\n",
      "cat_feat_14=91233270 -> -0.00012140729692048738\n",
      "cat_feat_14=b28479f6 -> -0.11062718878760078\n",
      "cat_feat_14=dcd762ee -> 0.0016913482719173865\n",
      "cat_feat_14=e8dce07a -> 1.1856033580004198e-05\n",
      "cat_feat_14=8ceecbc8 -> -0.02443226411205379\n",
      "cat_feat_14=0601d3b5 -> -0.0011496243694154604\n",
      "cat_feat_14=07d13a8f -> 0.03478828723169004\n",
      "cat_feat_14=f7c1b33f -> -0.0009347741063489505\n",
      "cat_feat_14=ec19f520 -> 4.592172055030903e-05\n",
      "cat_feat_14=ad1cc976 -> 0.0033179097876350557\n",
      "cat_feat_14=0bc7c8c2 -> -9.436727777136617e-05\n",
      "cat_feat_14=051219e6 -> 0.025383787860304943\n",
      "cat_feat_14=32813e21 -> 0.015836338667040234\n",
      "cat_feat_14=cf1fc48d -> -4.775533004754849e-05\n",
      "cat_feat_14=687dfaf4 -> -0.0011134327635497208\n",
      "cat_feat_14=95a6ab8c -> 2.3161455000685638e-05\n",
      "cat_feat_14=cfef1c29 -> -0.013687085554018\n",
      "cat_feat_14=1adce6ef -> -0.005109324259474178\n",
      "cat_feat_14=ab7390e9 -> 0.0013245794570397099\n",
      "cat_feat_14=26ac7cf4 -> -0.0011886205299315342\n",
      "cat_feat_14=5aebfb83 -> -0.000371377408154705\n",
      "cat_feat_14=64c94865 -> 0.054508055535953254\n",
      "cat_feat_14=None -> 0.0\n",
      "cat_feat_17=2005abd1 -> -0.03470432482202106\n",
      "cat_feat_17=d4bb7bd8 -> -0.06855985660605679\n",
      "cat_feat_17=27c07bd6 -> 0.010281326412457138\n",
      "cat_feat_17=07c540c4 -> -0.03577910754955328\n",
      "cat_feat_17=af5d780c -> -4.617686909205404e-05\n",
      "cat_feat_17=e5ba7672 -> 0.17241211935333578\n",
      "cat_feat_17=776ce399 -> -0.07062328632581641\n",
      "cat_feat_17=3486227d -> -0.005889976259078528\n",
      "cat_feat_17=1e88c74f -> -0.04800780727106775\n",
      "cat_feat_17=8efede7f -> 0.04748579033565243\n",
      "cat_feat_17=None -> 0.0\n",
      "cat_feat_20=b1252a9d -> 0.03487303756710011\n",
      "cat_feat_20=a458ea53 -> -0.03722588775893613\n",
      "cat_feat_20=5840adea -> -0.05581965460877662\n",
      "cat_feat_20=None -> 0.02474120519937034\n",
      "cat_feat_22=ad3062eb -> 0.035076004602636705\n",
      "cat_feat_22=8651fddb -> 7.692208407217452e-05\n",
      "cat_feat_22=c9d4222a -> -0.0005403632583314395\n",
      "cat_feat_22=ccfd4002 -> 8.57429126270571e-05\n",
      "cat_feat_22=49e825c5 -> 6.131182445658046e-05\n",
      "cat_feat_22=c0061c6d -> -9.399884279041305e-05\n",
      "cat_feat_22=8ec974f4 -> 0.0008694456779384537\n",
      "cat_feat_22=78e2e389 -> 0.0010423612754642524\n",
      "cat_feat_22=None -> -0.07001646683330749\n",
      "cat_feat_23=c7dc6720 -> -0.010766497937999605\n",
      "cat_feat_23=72592995 -> -0.00018764705726134764\n",
      "cat_feat_23=b264a060 -> -0.0015923450839548593\n",
      "cat_feat_23=25e3c76b -> -0.00011578049826921631\n",
      "cat_feat_23=85d5a995 -> -0.0007860671359526224\n",
      "cat_feat_23=55dd3565 -> -0.0012759628999192171\n",
      "cat_feat_23=dbb486d7 -> 0.006697735604724412\n",
      "cat_feat_23=3a171ecb -> -0.06675118250161449\n",
      "cat_feat_23=c3dc6cef -> 0.0033179097876350557\n",
      "cat_feat_23=bcdee96c -> -0.008594239150953562\n",
      "cat_feat_23=93bad2c0 -> -0.009836174643875137\n",
      "cat_feat_23=32c7478e -> 0.04152966838155081\n",
      "cat_feat_23=be7c41b4 -> -0.08323508466783108\n",
      "cat_feat_23=423fab69 -> 0.09816660680073003\n",
      "cat_feat_23=None -> 0.0\n",
      "cat_feat_25=9d93af03 -> 0.005201802921107336\n",
      "cat_feat_25=60c2b362 -> -7.104504510792967e-06\n",
      "cat_feat_25=59e2d823 -> 8.77746262811604e-05\n",
      "cat_feat_25=e13f3bf1 -> 4.357018050341051e-05\n",
      "cat_feat_25=c9f3bea7 -> 0.004739692299500133\n",
      "cat_feat_25=ce62e669 -> 0.00029465703809143526\n",
      "cat_feat_25=c243e98b -> 0.002009012021862963\n",
      "cat_feat_25=1575c75f -> -1.5450155256951104e-05\n",
      "cat_feat_25=fd2fe0bd -> 0.00046186951278437047\n",
      "cat_feat_25=e0f2931a -> 0.00012029632010985276\n",
      "cat_feat_25=e8b83407 -> -0.03351263594164965\n",
      "cat_feat_25=2bf691b1 -> 0.021547807539564777\n",
      "cat_feat_25=3a6f6b59 -> 0.00010602864466947114\n",
      "cat_feat_25=f0f449dd -> 0.008926978576151564\n",
      "cat_feat_25=33d94071 -> 0.0008395811200184984\n",
      "cat_feat_25=f55c04b6 -> -0.000520436568083299\n",
      "cat_feat_25=7a402766 -> 0.0032306890757747638\n",
      "cat_feat_25=24657b11 -> 5.07079855215768e-05\n",
      "cat_feat_25=cb079c2d -> 0.004856569007933767\n",
      "cat_feat_25=ea9a246c -> -0.01640040126532088\n",
      "cat_feat_25=9721386e -> -0.0001145256649241863\n",
      "cat_feat_25=001f3601 -> -0.06088567543131182\n",
      "cat_feat_25=ea2a0dae -> 1.8810380996122503e-05\n",
      "cat_feat_25=5c813496 -> 0.0001952875274935436\n",
      "cat_feat_25=51c3d1d4 -> 4.503104101850156e-05\n",
      "cat_feat_25=8f8c5acd -> -0.0001775149943983172\n",
      "cat_feat_25=8b8de563 -> 1.5991679587140095e-05\n",
      "cat_feat_25=3d2bedd7 -> -2.3209423766576936e-06\n",
      "cat_feat_25=9b3e8820 -> 0.0009217179416552468\n",
      "cat_feat_25=724b04da -> 0.0008465230919835621\n",
      "cat_feat_25=82d3ae39 -> -4.4431394722431426e-05\n",
      "cat_feat_25=445bbe3b -> 0.0023183911275965344\n",
      "cat_feat_25=07ee399f -> 4.129324170135744e-05\n",
      "cat_feat_25=f7839e21 -> 4.635669618541468e-07\n",
      "cat_feat_25=b9266ff0 -> -0.00010404634488771044\n",
      "cat_feat_25=f5b6afe5 -> -0.00017405610643240202\n",
      "cat_feat_25=875ea8a7 -> 0.00039284737198965825\n",
      "cat_feat_25=c0812fc5 -> 0.00016981281642653543\n",
      "cat_feat_25=47907db5 -> -0.0016304604211624424\n",
      "cat_feat_25=46fbac64 -> 0.0012638016039423446\n",
      "cat_feat_25=010f6491 -> -0.003321534574781518\n",
      "cat_feat_25=None -> 0.02474120519937034\n"
     ]
    }
   ],
   "source": [
    "print(f'intercept -> {model[-1]}')\n",
    "for dim in one_hot_encoder.keys():\n",
    "    for mod, index in one_hot_encoder[dim].items():\n",
    "        print(f'{dim}={mod} -> {model[index]}')"
   ]
  },
  {
   "cell_type": "code",
   "execution_count": 33,
   "metadata": {},
   "outputs": [],
   "source": [
    "ss.stop()"
   ]
  },
  {
   "cell_type": "markdown",
   "metadata": {},
   "source": [
    "### More questions\n",
    "\n",
    "* use sparse vectors\n",
    "* add feature hashing\n",
    "* merge loss and gradient computation in one function\n",
    "* use lbfgs from scipy"
   ]
  }
 ],
 "metadata": {
  "kernelspec": {
   "display_name": "Python 3",
   "language": "python",
   "name": "python3"
  },
  "language_info": {
   "codemirror_mode": {
    "name": "ipython",
    "version": 3
   },
   "file_extension": ".py",
   "mimetype": "text/x-python",
   "name": "python",
   "nbconvert_exporter": "python",
   "pygments_lexer": "ipython3",
   "version": "3.6.8"
  }
 },
 "nbformat": 4,
 "nbformat_minor": 2
}
